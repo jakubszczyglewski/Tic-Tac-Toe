{
 "cells": [
  {
   "cell_type": "code",
   "execution_count": 2,
   "metadata": {},
   "outputs": [],
   "source": [
    "import random\n",
    "\n",
    "\n",
    "class Player:\n",
    "\tdef __init__(self, sign):\n",
    "\t\tself.sign = sign\n",
    "\n",
    "\tdef move(self, moves, sign):\n",
    "\t\tprint('Your move, please choose a field.')\n",
    "\t\tplayer_move = input()\n",
    "\t\twhile player_move not in moves or moves[player_move] != '_':\n",
    "\t\t\tprint('Something is wrong, you may want to check your move')\n",
    "\t\t\tprint('Your move, please choose a field.')\n",
    "\t\t\tplayer_move = input()\n",
    "\t\tmoves.pop(player_move)\n",
    "\t\tmoves[player_move] = str(sign)"
   ]
  },
  {
   "cell_type": "code",
   "execution_count": 3,
   "metadata": {},
   "outputs": [],
   "source": [
    "class Computer(Player):\n",
    "\tdef __init__(self, sign):\n",
    "\t\tsuper().__init__(sign)\n",
    "\n",
    "\tdef move(self, moves, sign_own, sign_op):\n",
    "\t\tabc = ''\n",
    "\t\tfor key, value in moves.items():\n",
    "\t\t\tefg = value\n",
    "\t\t\tif abc == efg and value == '_':\n",
    "\t\t\t\tplayer_move = key\n",
    "\t\t\t\tmoves.pop(player_move)\n",
    "\t\t\t\tmoves[player_move] = str(sign_own)\n",
    "\t\t\t\tbreak\n",
    "\t\t\telse:\n",
    "\t\t\t\tchoice = random.choice(list(moves.keys()))\n",
    "\t\t\t\twhile moves[choice] == 'x' or moves[choice] == 'o':\n",
    "\t\t\t\t\tchoice = random.choice(list(moves.keys()))\n",
    "\t\t\t\tmoves.pop(choice)\n",
    "\t\t\t\tmoves[choice] = str(sign_own)\n",
    "\t\t\t\tbreak"
   ]
  },
  {
   "cell_type": "code",
   "execution_count": null,
   "metadata": {},
   "outputs": [],
   "source": []
  }
 ],
 "metadata": {
  "kernelspec": {
   "display_name": "Python 3",
   "language": "python",
   "name": "python3"
  },
  "language_info": {
   "codemirror_mode": {
    "name": "ipython",
    "version": 3
   },
   "file_extension": ".py",
   "mimetype": "text/x-python",
   "name": "python",
   "nbconvert_exporter": "python",
   "pygments_lexer": "ipython3",
   "version": "3.7.4"
  }
 },
 "nbformat": 4,
 "nbformat_minor": 2
}
